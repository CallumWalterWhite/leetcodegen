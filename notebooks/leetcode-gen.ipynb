{
 "cells": [
  {
   "cell_type": "code",
   "execution_count": 1,
   "metadata": {},
   "outputs": [],
   "source": [
    "from openai import OpenAI\n",
    "import os\n",
    "import json\n",
    "OpenAI.api_key = os.getenv(\"OPENAI_API_KEY\")"
   ]
  },
  {
   "cell_type": "code",
   "execution_count": 2,
   "metadata": {},
   "outputs": [],
   "source": [
    "def generate_leetcode_question(difficulty: str, data_structures: list, programming_language: str):\n",
    "    data_structures_str = \", \".join(data_structures)\n",
    "    client = OpenAI()\n",
    "    json_schema = {\n",
    "        \"challenge\": \"\",\n",
    "        \"entry_function\": \"\",\n",
    "        \"test_cases\": [],\n",
    "        \"solution\": \"\"\n",
    "    }\n",
    "    json_schema_str = json.dumps(json_schema, indent=2)\n",
    "    prompt = f\"\"\"As an intelligent Leetcode Builder API, given the following criteria:\n",
    "- Difficulty: {difficulty}\n",
    "- Data Structures: {data_structures_str}\n",
    "- Programming Language: {programming_language}\n",
    "\n",
    "Create a leetcode question, make it a random scenario where the solution should involve the data structure for the best solution.\n",
    "\n",
    "The response as follows:\n",
    "1: \"challenge\": \"text with the Leetcode challenge, give test cases and example result of test case and explain why\"\n",
    "2: \"entry_function\": \"example in Python, e.g., def solve(arr: list) -> int: return -1\"\n",
    "3: \"test_cases\": \"JSON format with input values and output values\"\n",
    "4: \"solution\": \"one way to solve the challenge\"\n",
    "\n",
    "Your task is to generate a response that conforms to the following JSON schema:\n",
    "{json_schema_str}\n",
    "\n",
    "Please fill in the schema with appropriate values based on the criteria. Ensure the response strictly adheres to the given schema format.\"\"\"\n",
    "\n",
    "    response = client.chat.completions.create(\n",
    "        model=\"gpt-4\",\n",
    "        messages=[\n",
    "            {\"role\": \"system\", \"content\": prompt},\n",
    "        ],\n",
    "        temperature=0,\n",
    "    )\n",
    "    return response\n",
    "# Example usage\n",
    "difficulty = \"Medium\"\n",
    "data_structures = [\"Array\"]\n",
    "programming_language = \"python\"\n",
    "generated_text = generate_leetcode_question(difficulty, data_structures, programming_language)\n",
    "leetcode = generated_text.copy()"
   ]
  },
  {
   "cell_type": "code",
   "execution_count": 3,
   "metadata": {},
   "outputs": [
    {
     "name": "stdout",
     "output_type": "stream",
     "text": [
      "{'challenge': 'Given an array of integers, find the length of the longest subarray where the absolute difference between any two elements is less than or equal to 1. If there are multiple subarrays with the same length, return the length of any one of them. For example, given the array [1, 2, 2, 3, 1], the longest subarray with absolute difference less than or equal to 1 is [2, 2, 3] or [1, 2, 2], both with length 3.', 'entry_function': 'def longest_subarray(arr: list) -> int: return -1', 'test_cases': [{'input': [1, 2, 2, 3, 1], 'output': 3}, {'input': [1, 1, 1, 1, 1], 'output': 5}, {'input': [1, 2, 3, 4, 5], 'output': 2}, {'input': [1, 3, 5, 7, 9], 'output': 1}], 'solution': 'def longest_subarray(arr: list) -> int: \\n    if not arr: return 0\\n    max_len = 1\\n    curr_len = 1\\n    for i in range(1, len(arr)):\\n        if abs(arr[i] - arr[i-1]) <= 1:\\n            curr_len += 1\\n            max_len = max(max_len, curr_len)\\n        else:\\n            curr_len = 1\\n    return max_len'}\n",
      "--------------------------------\n",
      "Given an array of integers, find the length of the longest subarray where the absolute difference between any two elements is less than or equal to 1. If there are multiple subarrays with the same length, return the length of any one of them. For example, given the array [1, 2, 2, 3, 1], the longest subarray with absolute difference less than or equal to 1 is [2, 2, 3] or [1, 2, 2], both with length 3.\n",
      "def longest_subarray(arr: list) -> int: return -1\n",
      "[{'input': [1, 2, 2, 3, 1], 'output': 3}, {'input': [1, 1, 1, 1, 1], 'output': 5}, {'input': [1, 2, 3, 4, 5], 'output': 2}, {'input': [1, 3, 5, 7, 9], 'output': 1}]\n",
      "def longest_subarray(arr: list) -> int: \n",
      "    if not arr: return 0\n",
      "    max_len = 1\n",
      "    curr_len = 1\n",
      "    for i in range(1, len(arr)):\n",
      "        if abs(arr[i] - arr[i-1]) <= 1:\n",
      "            curr_len += 1\n",
      "            max_len = max(max_len, curr_len)\n",
      "        else:\n",
      "            curr_len = 1\n",
      "    return max_len\n"
     ]
    }
   ],
   "source": [
    "leetcode_dict = json.loads(leetcode.choices[0].message.dict()['content'])\n",
    "print(leetcode_dict)\n",
    "print(\"--------------------------------\")\n",
    "print(leetcode_dict['challenge'])\n",
    "print(leetcode_dict['entry_function'])\n",
    "print(leetcode_dict['test_cases'])\n",
    "print(leetcode_dict['solution'])"
   ]
  },
  {
   "cell_type": "code",
   "execution_count": 4,
   "metadata": {},
   "outputs": [
    {
     "name": "stdout",
     "output_type": "stream",
     "text": [
      "Test #1 failed: [1, 2, 2, 3, 1] -> -1 != 3\n",
      "Test #2 failed: [1, 1, 1, 1, 1] -> -1 != 5\n",
      "Test #3 failed: [1, 2, 3, 4, 5] -> -1 != 2\n",
      "Test #4 failed: [1, 3, 5, 7, 9] -> -1 != 1\n"
     ]
    }
   ],
   "source": [
    "import threading    \n",
    "def compile_and_run_function(code, test_cases):\n",
    "    local_vars = {}\n",
    "    exec(code, globals(), local_vars)\n",
    "    function_name = list(local_vars.keys())[0]\n",
    "    function = local_vars[function_name]\n",
    "    def run_test_cases():\n",
    "        for i, test in enumerate(test_cases):\n",
    "            input_val = test[\"input\"]\n",
    "            expected_output = test[\"output\"]\n",
    "            params = []\n",
    "            if (type(input_val) == dict):\n",
    "                input_val_keys = input_val.keys()\n",
    "                for key in input_val.keys():\n",
    "                    params.append(input_val[key])\n",
    "            else:\n",
    "                params.append(input_val)\n",
    "            try:\n",
    "                actual_output = function(*params)\n",
    "                assert actual_output == expected_output, f\"Test #{i+1} failed: {input_val} -> {actual_output} != {expected_output}\"\n",
    "                print(f\"Test #{i+1} passed: {input_val} -> {actual_output} == {expected_output}\")\n",
    "            except AssertionError as e:\n",
    "                print(e)\n",
    "            except Exception as e:\n",
    "                print(f\"Test #{i+1} raised an unexpected error: {e}\")\n",
    "    test_thread = threading.Thread(target=run_test_cases)\n",
    "    test_thread.start()\n",
    "    test_thread.join()\n",
    "    \n",
    "entry_function_code = leetcode_dict[\"entry_function\"]\n",
    "test_cases = leetcode_dict[\"test_cases\"]\n",
    "compile_and_run_function(entry_function_code, test_cases)"
   ]
  }
 ],
 "metadata": {
  "kernelspec": {
   "display_name": "Python 3.8.7 ('venv': venv)",
   "language": "python",
   "name": "python3"
  },
  "language_info": {
   "codemirror_mode": {
    "name": "ipython",
    "version": 3
   },
   "file_extension": ".py",
   "mimetype": "text/x-python",
   "name": "python",
   "nbconvert_exporter": "python",
   "pygments_lexer": "ipython3",
   "version": "3.8.7"
  },
  "orig_nbformat": 4,
  "vscode": {
   "interpreter": {
    "hash": "ae47ecc8a5ff9bb9bf31c0decc087964ea384993dee2e959da8899d5355b0a6f"
   }
  }
 },
 "nbformat": 4,
 "nbformat_minor": 2
}
